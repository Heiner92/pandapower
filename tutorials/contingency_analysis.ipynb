{
 "cells": [
  {
   "cell_type": "markdown",
   "id": "5dcb8ad7",
   "metadata": {},
   "source": [
    "# Contingency analysis\n",
    "\n",
    "We can define N-1 cases to be analysed as contingencies. This means that indices of net.line, net.trafo, net.trafo3w can be defined as contingencies, which are switched off one at a time. The power system is analyzed with power flow calculations, and the min/max values among all the N-1 cases are obtained for relevant variables."
   ]
  },
  {
   "cell_type": "code",
   "execution_count": 1,
   "id": "e81c38f2",
   "metadata": {},
   "outputs": [],
   "source": [
    "import numpy as np\n",
    "import pandas as pd\n",
    "from matplotlib import pyplot as plt\n",
    "\n",
    "import pandapower as pp\n",
    "import pandapower.contingency\n",
    "import pandapower.control\n",
    "import pandapower.timeseries"
   ]
  },
  {
   "cell_type": "markdown",
   "id": "0a7db3b8",
   "metadata": {},
   "source": [
    "A dictionary that defines all the relevant N-1 cases to be analyzed is a required input parameter. The results of the contingency analysis are returned as a dictionary, and also written in the results tables in net:"
   ]
  },
  {
   "cell_type": "code",
   "execution_count": 2,
   "id": "18efd362",
   "metadata": {},
   "outputs": [
    {
     "ename": "AttributeError",
     "evalue": "module 'pandapower' has no attribute 'networks'",
     "output_type": "error",
     "traceback": [
      "\u001b[1;31m---------------------------------------------------------------------------\u001b[0m",
      "\u001b[1;31mAttributeError\u001b[0m                            Traceback (most recent call last)",
      "Cell \u001b[1;32mIn [2], line 1\u001b[0m\n\u001b[1;32m----> 1\u001b[0m net \u001b[38;5;241m=\u001b[39m pp\u001b[38;5;241m.\u001b[39mnetworks\u001b[38;5;241m.\u001b[39mcase9()\n\u001b[0;32m      3\u001b[0m nminus1_cases \u001b[38;5;241m=\u001b[39m {\u001b[38;5;124m\"\u001b[39m\u001b[38;5;124mline\u001b[39m\u001b[38;5;124m\"\u001b[39m: {\u001b[38;5;124m\"\u001b[39m\u001b[38;5;124mindex\u001b[39m\u001b[38;5;124m\"\u001b[39m: net\u001b[38;5;241m.\u001b[39mline\u001b[38;5;241m.\u001b[39mindex\u001b[38;5;241m.\u001b[39mvalues}}\n\u001b[0;32m      4\u001b[0m res \u001b[38;5;241m=\u001b[39m pp\u001b[38;5;241m.\u001b[39mcontingency\u001b[38;5;241m.\u001b[39mrun_contingency(net, nminus1_cases)\n",
      "\u001b[1;31mAttributeError\u001b[0m: module 'pandapower' has no attribute 'networks'"
     ]
    }
   ],
   "source": [
    "net = pp.networks.case9()\n",
    "\n",
    "nminus1_cases = {\"line\": {\"index\": net.line.index.values}}\n",
    "res = pp.contingency.run_contingency(net, nminus1_cases)"
   ]
  },
  {
   "cell_type": "markdown",
   "id": "7b924c5e",
   "metadata": {},
   "source": [
    "The results can be evaluated with the fuction _check_elements_within_limits_, which returns True if all results are within specified limits, and False in case of any violations:"
   ]
  },
  {
   "cell_type": "code",
   "execution_count": null,
   "id": "04daaf3e",
   "metadata": {},
   "outputs": [],
   "source": [
    "element_limits = pp.contingency.get_element_limits(net)\n",
    "pp.contingency.check_elements_within_limits(element_limits, res, True)"
   ]
  },
  {
   "cell_type": "markdown",
   "id": "c63c7a92",
   "metadata": {},
   "source": [
    "The contingency analysis determined violations of limits. The function _report_contingency_results_ can be used to print logging statements, informing the user of the details of the limit violations:"
   ]
  },
  {
   "cell_type": "code",
   "execution_count": null,
   "id": "f3c058c2",
   "metadata": {},
   "outputs": [],
   "source": [
    "pp.contingency.report_contingency_results(element_limits, res)"
   ]
  },
  {
   "cell_type": "markdown",
   "id": "c7a09177",
   "metadata": {},
   "source": [
    "## Time-series simulation\n",
    "\n",
    "The function _run_contingency_ can be passed to _run_timeseries_. This way, the contingency analysis is executed at every timne step of the time-series simulation. The results of the contingency analysis for every time step can be added to the output of the _output\\_writer_ and analyzed after the time-series calculation.\n",
    "\n",
    "First, we configure the time-series simulation:"
   ]
  },
  {
   "cell_type": "code",
   "execution_count": null,
   "id": "7f22bdb6",
   "metadata": {},
   "outputs": [],
   "source": [
    "load_profiles = pd.DataFrame(net.load.p_mw.values * (np.random.random((24, len(net.load))) * 0.4 + 0.8), \n",
    "                             index=np.arange(24), columns=net.load.index.values)\n",
    "dsl = pp.timeseries.DFData(load_profiles)\n",
    "pp.control.ConstControl(net, element=\"load\", variable=\"p_mw\", element_index=net.load.index.values, \n",
    "                        profile_name=net.load.index.values, data_source=dsl)\n",
    "\n",
    "\n",
    "gen_profiles = pd.DataFrame(net.gen.p_mw.values * (np.random.random((24, len(net.gen))) * 0.4 + 0.8), \n",
    "                             index=np.arange(24), columns=net.gen.index.values)\n",
    "dsg = pp.timeseries.DFData(gen_profiles)\n",
    "pp.control.ConstControl(net, element=\"gen\", variable=\"p_mw\", element_index=net.gen.index.values, \n",
    "                        profile_name=net.gen.index.values, data_source=dsg)\n",
    "\n",
    "ow = pp.timeseries.OutputWriter(net)\n",
    "ow.log_variable(\"res_line\", \"max_loading_percent\")\n",
    "ow.log_variable(\"res_line\", \"min_loading_percent\")\n",
    "ow.log_variable(\"res_bus\", \"max_vm_pu\")\n",
    "ow.log_variable(\"res_bus\", \"min_vm_pu\")"
   ]
  },
  {
   "cell_type": "markdown",
   "id": "a7b8b645",
   "metadata": {},
   "source": [
    "The time-series simulation is executed:"
   ]
  },
  {
   "cell_type": "code",
   "execution_count": null,
   "id": "d2ad8fa6",
   "metadata": {},
   "outputs": [],
   "source": [
    "pp.timeseries.run_timeseries(net, time_steps=range(24), run=pp.contingency.run_contingency, nminus1_cases=nminus1_cases)"
   ]
  },
  {
   "cell_type": "markdown",
   "id": "434fab16",
   "metadata": {},
   "source": [
    "We can aggregate the result values from the output writer and show the max. and min. values for the N-0 and N-1 situations for every time step:"
   ]
  },
  {
   "cell_type": "code",
   "execution_count": null,
   "id": "c67ac5ca",
   "metadata": {},
   "outputs": [],
   "source": [
    "fig, (ax1, ax2) = plt.subplots(ncols=2, nrows=1, figsize=(10,4))\n",
    "ow.output[\"res_line.max_loading_percent\"].max(axis=1).plot(label=\"max. Loading, N-1 (%)\", ax=ax1, linestyle=\"--\")\n",
    "ow.output[\"res_line.loading_percent\"].max(axis=1).plot(label=\"max. Loading, N-0 (%)\", ax=ax1)\n",
    "ow.output[\"res_line.min_loading_percent\"].min(axis=1).plot(label=\"min. Loading, N-1 (%)\", ax=ax1, linestyle=\"--\")\n",
    "ow.output[\"res_line.loading_percent\"].min(axis=1).plot(label=\"min. Loading, N-0 (%)\", ax=ax1)\n",
    "ax1.legend(ncol=2, loc=\"upper center\", bbox_to_anchor=[0.5, -0.1])\n",
    "ow.output[\"res_bus.max_vm_pu\"].max(axis=1).plot(label=\"max. $V_m$, N-1 (p.u.)\", ax=ax2, linestyle=\"--\")\n",
    "ow.output[\"res_bus.vm_pu\"].max(axis=1).plot(label=\"max. $V_m$, N-0 (p.u.)\", ax=ax2)\n",
    "ow.output[\"res_bus.min_vm_pu\"].min(axis=1).plot(label=\"min. $V_m$, N-1 (p.u.)\", ax=ax2, linestyle=\"--\")\n",
    "ow.output[\"res_bus.vm_pu\"].min(axis=1).plot(label=\"min. $V_m$, N-0 (p.u.)\", ax=ax2)\n",
    "ax2.legend(ncol=2, loc=\"upper center\", bbox_to_anchor=[0.5, -0.1])\n",
    "plt.tight_layout()"
   ]
  },
  {
   "cell_type": "markdown",
   "id": "fb5a0c66",
   "metadata": {},
   "source": [
    "A more advanced plotting of results using boxplot provides more insight into every time step:"
   ]
  },
  {
   "cell_type": "code",
   "execution_count": null,
   "id": "4c7b9768",
   "metadata": {},
   "outputs": [],
   "source": [
    "fig, ((ax11, ax12), (ax21, ax22)) = plt.subplots(ncols=2, nrows=2, sharey=\"row\", figsize=(10,6))\n",
    "ow.output[\"res_line.max_loading_percent\"].T.boxplot(ax=ax11, whis=[0,100], grid=False)\n",
    "ax11.set_title(\"max. Loading, N-1 (%)\")\n",
    "ow.output[\"res_line.min_loading_percent\"].T.boxplot(ax=ax12, whis=[0,100], grid=False)\n",
    "ax12.set_title(\"min. Loading, N-1 (%)\")\n",
    "ow.output[\"res_bus.max_vm_pu\"].T.boxplot(ax=ax21, whis=[0,100], grid=False)\n",
    "ax21.set_title(\"max. $V_m$, N-1 (p.u.)\")\n",
    "ow.output[\"res_bus.min_vm_pu\"].T.boxplot(ax=ax22, whis=[0,100], grid=False)\n",
    "ax22.set_title(\"min. $V_m$, N-1 (p.u.)\")\n",
    "plt.tight_layout()"
   ]
  }
 ],
 "metadata": {
  "kernelspec": {
   "display_name": "Python 3 (ipykernel)",
   "language": "python",
   "name": "python3"
  },
  "language_info": {
   "codemirror_mode": {
    "name": "ipython",
    "version": 3
   },
   "file_extension": ".py",
   "mimetype": "text/x-python",
   "name": "python",
   "nbconvert_exporter": "python",
   "pygments_lexer": "ipython3",
   "version": "3.10.6"
  }
 },
 "nbformat": 4,
 "nbformat_minor": 5
}
